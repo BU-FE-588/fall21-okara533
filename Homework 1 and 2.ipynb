{
 "cells": [
  {
   "cell_type": "markdown",
   "metadata": {},
   "source": [
    "# Homework 1 and 2 due November 23$^{th}$, 2021\n",
    "\n",
    "The aim of this homework is to practive the concepts of basic data structures, control flows and loops in Python. You are expected to use GitHub Classroom and present your work as an html file (i.e. web page) on your progress journals. You can use this jupyter notebook as template to provide your answers."
   ]
  },
  {
   "cell_type": "markdown",
   "metadata": {},
   "source": [
    "## Task 1\n",
    "Implement a Python program to input two numbers and perform all arithmetic operations. You are expected to find the sum, difference, product, quotient and remainder of two given numbers."
   ]
  },
  {
   "cell_type": "code",
   "execution_count": 28,
   "metadata": {},
   "outputs": [
    {
     "name": "stdout",
     "output_type": "stream",
     "text": [
      "Master of Calculater v1.3\n",
      "Input First Number  : 3\n",
      "Input Second Number : 4\n",
      "Summation of 3.0 and 4.0 is :.....7.0\n",
      "Difference of 3.0 and 4.0 is :.....-1.0\n",
      "Product of 3.0 and 4.0 is :.....12.0\n",
      "Quotient of 3.0 and 4.0 is :.....0.750\n",
      "Remainder of 3.0 and 4.0 is :.....3.0\n"
     ]
    }
   ],
   "source": [
    "def arithmetic(num1,num2):\n",
    "    try:\n",
    "        num1=float(num1)\n",
    "        num2=float(num2)\n",
    "        sum_nums=num1+num2\n",
    "        print(\"Summation of {} and {} is :.....{}\".format(num1,num2,sum_nums))\n",
    "        dif_nums=num1-num2\n",
    "        print(\"Difference of {} and {} is :.....{}\".format(num1,num2,dif_nums))\n",
    "        pro_nums=num1*num2\n",
    "        print(\"Product of {} and {} is :.....{}\".format(num1,num2,pro_nums))\n",
    "        quo_nums=num1/num2\n",
    "        print(\"Quotient of {} and {} is :.....{:.3f}\".format(num1,num2,quo_nums))\n",
    "        rem_nums=num1%num2\n",
    "        print(\"Remainder of {} and {} is :.....{}\".format(num1,num2,rem_nums))\n",
    "    except Exception as e:\n",
    "        print(e)\n",
    "        print(\"Are {} and {} numer?\".format(num1,num2))\n",
    "print(\"Master of Calculater v1.3\")\n",
    "num1=input(\"Input First Number  : \")\n",
    "num2=input(\"Input Second Number : \")\n",
    "arithmetic(num1,num2)"
   ]
  },
  {
   "cell_type": "markdown",
   "metadata": {},
   "source": [
    "## Task 2\n",
    "Implement a Python program to input length and width of a rectangle and find area of the given rectangle. "
   ]
  },
  {
   "cell_type": "code",
   "execution_count": 27,
   "metadata": {},
   "outputs": [
    {
     "name": "stdout",
     "output_type": "stream",
     "text": [
      "Rectangle Area Calculater v1.0\n",
      "Length : 3\n",
      "Width : 4\n",
      "Area of Rectangle: 12.0\n"
     ]
    }
   ],
   "source": [
    "def rectangle(length,width):\n",
    "    try:\n",
    "        length=float(length)\n",
    "        width=float(width)\n",
    "        print(\"Area of Rectangle: {}\".format(width*length))\n",
    "    except Exception as e:\n",
    "        print(e)\n",
    "        print(\"Are {} and {} numer?\".format(length,width))\n",
    "print(\"Rectangle Area Calculater v1.0\")\n",
    "num1=input(\"Length : \")\n",
    "num2=input(\"Width : \")\n",
    "rectangle(num1,num2)"
   ]
  },
  {
   "cell_type": "markdown",
   "metadata": {},
   "source": [
    "## Task 3\n",
    "Implement a Python program to input any decimal number from user and convert it to binary number system (i.e. base-2 number system)"
   ]
  },
  {
   "cell_type": "code",
   "execution_count": 37,
   "metadata": {},
   "outputs": [
    {
     "name": "stdout",
     "output_type": "stream",
     "text": [
      "base-10 to base-2 app\n",
      "Input Number: 7\n"
     ]
    },
    {
     "data": {
      "text/plain": [
       "1001"
      ]
     },
     "execution_count": 37,
     "metadata": {},
     "output_type": "execute_result"
    }
   ],
   "source": [
    "def base2(int1):\n",
    "    try:\n",
    "        int1=int(int1)\n",
    "        return(int(bin(9)[2:]))\n",
    "    except Exception as e:\n",
    "        print(e)\n",
    "        print(\"Is {} number?\".format(int1))\n",
    "print(\"base-10 to base-2 app\")\n",
    "num1=input(\"Input Number: \")\n",
    "base2(num1)   "
   ]
  },
  {
   "cell_type": "markdown",
   "metadata": {},
   "source": [
    "## Task 4\n",
    "Implement a Python program to input a number and check whether number is even or odd using if/else statements.\n",
    "\n",
    "Example:\n",
    "Input <br>\n",
    "Input num: 25 <br>\n",
    "Output <br>\n",
    "25 is odd."
   ]
  },
  {
   "cell_type": "code",
   "execution_count": 45,
   "metadata": {},
   "outputs": [
    {
     "name": "stdout",
     "output_type": "stream",
     "text": [
      "I can say that the number is odd or even:\n",
      "Ask me a Number: 8\n",
      "8 is even\n"
     ]
    }
   ],
   "source": [
    "def even_odd(num1):\n",
    "    try:\n",
    "        num1=int(num1)\n",
    "        if num1%2==1:\n",
    "            num1_type=\"odd\"\n",
    "        else:\n",
    "            num1_type=\"even\"\n",
    "        return \"{} is {}\".format(num1,num1_type)\n",
    "    except Exception as e:\n",
    "        print(e)\n",
    "        print(\"Is {} number?\".format(num1))\n",
    "print(\"I can say that the number is odd or even:\")\n",
    "num1=input(\"Ask me a Number: \")\n",
    "print(\"{}\".format(even_odd(num1)))"
   ]
  },
  {
   "cell_type": "markdown",
   "metadata": {},
   "source": [
    "## Task 5\n",
    "Implement a Python program to check if input year is a leap year using if/else statements."
   ]
  },
  {
   "cell_type": "code",
   "execution_count": 62,
   "metadata": {},
   "outputs": [
    {
     "name": "stdout",
     "output_type": "stream",
     "text": [
      "Input a year : 2000\n"
     ]
    },
    {
     "data": {
      "text/plain": [
       "'2000 is a leap year'"
      ]
     },
     "execution_count": 62,
     "metadata": {},
     "output_type": "execute_result"
    }
   ],
   "source": [
    "def leap_year(year_):\n",
    "    try:\n",
    "        year_=int(year_)\n",
    "        if year_%4==0:\n",
    "            if year_%100==0:\n",
    "                if year_%400==0:\n",
    "                    year_type=\"a leap\" \n",
    "                else:\n",
    "                    year_type=\"not a leap\" \n",
    "            else:\n",
    "                year_type=\"a leap\"               \n",
    "        else:\n",
    "            year_type=\"not a leap\"\n",
    "        return \"{} is {} year\".format(year_,year_type)\n",
    "    except Exception as e:\n",
    "        print(e)\n",
    "        print(\"Is {} year?\".format(num1))\n",
    "year_=input(\"Input a year : \")\n",
    "leap_year(year_)        "
   ]
  },
  {
   "cell_type": "markdown",
   "metadata": {},
   "source": [
    "## Task 6\n",
    "Implement a Python program to print all natural numbers from 1 to n using loop."
   ]
  },
  {
   "cell_type": "code",
   "execution_count": 64,
   "metadata": {},
   "outputs": [
    {
     "name": "stdout",
     "output_type": "stream",
     "text": [
      "Input Number: 19\n",
      "1\n",
      "2\n",
      "3\n",
      "4\n",
      "5\n",
      "6\n",
      "7\n",
      "8\n",
      "9\n",
      "10\n",
      "11\n",
      "12\n",
      "13\n",
      "14\n",
      "15\n",
      "16\n",
      "17\n",
      "18\n",
      "19\n"
     ]
    }
   ],
   "source": [
    "def natural_num(n):\n",
    "    try:\n",
    "        n=int(n)\n",
    "        for x in range(1,n+1):\n",
    "            print(x)\n",
    "    except Exception as e:\n",
    "        print(e)\n",
    "        print(\"Is {} number?\".format(num1))\n",
    "n=input(\"Input Number: \")\n",
    "natural_num(n)"
   ]
  },
  {
   "cell_type": "markdown",
   "metadata": {},
   "source": [
    "## Task 7\n",
    "Implement a Python program to input a number from user and swap first and last digit of the given number. This task is easy to perform when input is transformed to a string. However, the aim here is to make use of mathematical operations to perform the swapping operation. One way to perform this task is to divide the input number by 10 until you are left with the first digit. The remainder from the first division is the last digit. Note that there are alternative approaches to perform the same task."
   ]
  },
  {
   "cell_type": "code",
   "execution_count": 87,
   "metadata": {},
   "outputs": [
    {
     "name": "stdout",
     "output_type": "stream",
     "text": [
      "Swapper v2.0\n",
      "I can swap first and last number of number.\n",
      "Give me a number: 1678\n"
     ]
    },
    {
     "data": {
      "text/plain": [
       "8671"
      ]
     },
     "execution_count": 87,
     "metadata": {},
     "output_type": "execute_result"
    }
   ],
   "source": [
    "def swap(n):\n",
    "    try:\n",
    "        n=int(n)\n",
    "        check_first_number=False\n",
    "        first_number=n\n",
    "        last_number=n\n",
    "        n_=n\n",
    "        count=0\n",
    "        remainder=[]\n",
    "        while not check_first_number:\n",
    "            if n_%10==n_:\n",
    "                check_first_number=True\n",
    "                first_number=n_\n",
    "                last_number=last_number%10\n",
    "            else:\n",
    "                n_=int(n_/10)\n",
    "                count+=1\n",
    "        #base is 715 if the number is 37152\n",
    "        base=(n-first_number*(10**(count)))-last_number\n",
    "        swap_number=(base+first_number)+10**(count)*last_number\n",
    "        return swap_number\n",
    "    \n",
    "    except Exception as e:\n",
    "        print(e)\n",
    "        print(\"Is {} number?\".format(n))\n",
    "\n",
    "print(\"Swapper v2.0\")\n",
    "print(\"I can swap first and last number of number.\")\n",
    "n=input(\"Give me a number: \")\n",
    "swap(n)"
   ]
  },
  {
   "cell_type": "markdown",
   "metadata": {},
   "source": [
    "## Task 8\n",
    "Implement a Python program to input any number from user and find cube of the given number using function. "
   ]
  },
  {
   "cell_type": "code",
   "execution_count": 92,
   "metadata": {},
   "outputs": [
    {
     "name": "stdout",
     "output_type": "stream",
     "text": [
      "Input a number: 3\n",
      "Cube of 3 is 27\n"
     ]
    }
   ],
   "source": [
    "def cube(n):\n",
    "    try:\n",
    "        n=int(n)\n",
    "        return n**3\n",
    "    except Exception as e:\n",
    "        print(e)\n",
    "        print(\"Is {} number?\".format(n))\n",
    "n=input(\"Input a number: \")\n",
    "print(\"Cube of {} is {}\".format(n,cube(n)))"
   ]
  },
  {
   "cell_type": "markdown",
   "metadata": {},
   "source": [
    "## Task 9\n",
    "Write a function to find prime numbers between two integers (i.e. lower and upper bound). Note that you need to control if provided bounds are positive (at least upper bound should be some positive number) and upper bound is larger than provided lower bound."
   ]
  },
  {
   "cell_type": "code",
   "execution_count": 129,
   "metadata": {},
   "outputs": [
    {
     "name": "stdout",
     "output_type": "stream",
     "text": [
      "Write Exit if you want to exit.\n",
      "Input number1: -12\n",
      "Input number2: 12\n",
      "First number could not be negative so it is equal to 2 now.\n",
      "2 is prime number!\n",
      "3 is prime number!\n",
      "5 is prime number!\n",
      "7 is prime number!\n",
      "11 is prime number!\n",
      "None\n",
      "Write Exit if you want to exit.\n",
      "Input number1: \n",
      "Input number2: \n",
      "Program is Stopped\n"
     ]
    }
   ],
   "source": [
    "def prime_number(n1,n2):\n",
    "    global stop\n",
    "    if n1.lower()==\"exit\" or n2.lower()==\"exit\" or n1==\"\" or n2==\"\":\n",
    "        stop=False\n",
    "        return \"Program is Stopped\"\n",
    "    try:\n",
    "        n1=int(n1)\n",
    "        n2=int(n2)\n",
    "        if n1>n2:\n",
    "            return \"{} must less than {}. Please Enter Valid Number.\".format(n1,n2)\n",
    "        else:\n",
    "            if n1<=0:\n",
    "                \n",
    "                print(\"First number could not be negative so it is equal to 2 now.\")\n",
    "                n1=2\n",
    "            else:\n",
    "                pass\n",
    "            if n2<0:\n",
    "                return \"{} must be positive number.Please Enter Valid Number.\".format(n2)\n",
    "            else:\n",
    "                pass\n",
    "        \n",
    "        for i in range(n1,n2):\n",
    "            for x in range(1,i):\n",
    "                if i%x==0 and x!=1:\n",
    "                    check_prime=False\n",
    "                    break\n",
    "                else:\n",
    "                    check_prime=True\n",
    "            if check_prime:\n",
    "                print(\"{} is prime number!\".format(i))\n",
    "    except Exception as e:\n",
    "        print(e)\n",
    "        print(\"Are {} and {} number?\".format(n1,n2))\n",
    "stop=True\n",
    "while stop:\n",
    "    print(\"Write Exit if you want to exit.\")\n",
    "    n1=input(\"Input number1: \")\n",
    "    n2=input(\"Input number2: \")\n",
    "    print(prime_number(n1,n2))"
   ]
  },
  {
   "cell_type": "markdown",
   "metadata": {},
   "source": [
    "## Task 10\n",
    "Implement a Python program that takes a list with numerical elements and find the sum of list elements."
   ]
  },
  {
   "cell_type": "code",
   "execution_count": 134,
   "metadata": {},
   "outputs": [
    {
     "data": {
      "text/plain": [
       "16"
      ]
     },
     "execution_count": 134,
     "metadata": {},
     "output_type": "execute_result"
    }
   ],
   "source": [
    "def sum_of_list(n):\n",
    "    if type(n) is list:\n",
    "        x=0\n",
    "        for i in n:\n",
    "            x+=i\n",
    "        return x\n",
    "    else:\n",
    "        print(\"please input a list\")\n",
    "sum_of_list([3,5,8])       "
   ]
  },
  {
   "cell_type": "markdown",
   "metadata": {},
   "source": [
    "## Task 11\n",
    "Implement a Python program that takes an integer list and find frequency of each element in list. There are built-in functions to perform this task in Python however you are expected perform this task using loops. Example:\n",
    "\n",
    "\n",
    "Input\n",
    "Input array elements: 4, 9, 9, 5, 100, 1, 2, 1, 2\n",
    "\n",
    "Output <br>\n",
    "Frequency of 4 = 1  <br>\n",
    "Frequency of 9 = 2  <br>\n",
    "Frequency of 5 = 1  <br>\n",
    "Frequency of 100 = 1  <br>\n",
    "Frequency of 1 = 2  <br>\n",
    "Frequency of 2 = 2  <br>"
   ]
  },
  {
   "cell_type": "code",
   "execution_count": 136,
   "metadata": {},
   "outputs": [
    {
     "name": "stdout",
     "output_type": "stream",
     "text": [
      "Frequency of 4 = 1\n",
      "Frequency of 9 = 2\n",
      "Frequency of 5 = 1\n",
      "Frequency of 100 = 1\n",
      "Frequency of 1 = 2\n",
      "Frequency of 2 = 2\n"
     ]
    }
   ],
   "source": [
    "def freq(n):\n",
    "    if type(n) is list:\n",
    "        number_dict={}\n",
    "        for i in n:\n",
    "            count=0\n",
    "            for a in n:\n",
    "                if i==a:\n",
    "                    count+=1\n",
    "            number_dict[i]=count\n",
    "        for i in number_dict:\n",
    "            print(\"Frequency of {} = {}\".format(i,number_dict[i]))\n",
    "    else:\n",
    "        print(\"please input a list\")\n",
    "freq([4, 9, 9, 5, 100, 1, 2, 1, 2])"
   ]
  },
  {
   "cell_type": "markdown",
   "metadata": {},
   "source": [
    "## Task 12\n",
    "Implement a Python program that reads the side (side sizes between 1 and 5 ) of a square and prints square using hash (#) character.\n",
    "\n",
    "Input: 5\n",
    "Sample Output: <br>\n",
    "Input the size of the square:  <br>\n",
    " $ # # # # # $ <br>\n",
    " $ # # # # # $ <br>\n",
    " $ # # # # # $ <br>\n",
    " $ # # # # # $ <br>\n",
    " $ # # # # # $ <br>"
   ]
  },
  {
   "cell_type": "code",
   "execution_count": 141,
   "metadata": {},
   "outputs": [
    {
     "name": "stdout",
     "output_type": "stream",
     "text": [
      "nput the size of the square: 4\n",
      "####\n",
      "####\n",
      "####\n",
      "####\n"
     ]
    }
   ],
   "source": [
    "def square_size(n):\n",
    "    if n>=1 and n<=5:\n",
    "        printing=\"#\"*n\n",
    "        for i in range(n):\n",
    "            print(printing)\n",
    "size=input(\"nput the size of the square: \")\n",
    "square_size(int(size))"
   ]
  }
 ],
 "metadata": {
  "kernelspec": {
   "display_name": "Python 3",
   "language": "python",
   "name": "python3"
  },
  "language_info": {
   "codemirror_mode": {
    "name": "ipython",
    "version": 3
   },
   "file_extension": ".py",
   "mimetype": "text/x-python",
   "name": "python",
   "nbconvert_exporter": "python",
   "pygments_lexer": "ipython3",
   "version": "3.8.8"
  }
 },
 "nbformat": 4,
 "nbformat_minor": 2
}
